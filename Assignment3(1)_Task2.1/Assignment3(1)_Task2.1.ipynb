{
 "cells": [
  {
   "cell_type": "code",
   "execution_count": 1,
   "metadata": {},
   "outputs": [
    {
     "name": "stdout",
     "output_type": "stream",
     "text": [
      "Vander Matrix if increasing = False : [[1, 1, 1, 1, 1], [16, 8, 4, 2, 1], [256, 64, 16, 4, 1], [1296, 216, 36, 6, 1], [4096, 512, 64, 8, 1], [10000, 1000, 100, 10, 1]]\n",
      "Vander Matrix if increasing = True : [[1, 1, 1, 1, 1], [1, 2, 4, 8, 16], [1, 4, 16, 64, 256], [1, 6, 36, 216, 1296], [1, 8, 64, 512, 4096], [1, 10, 100, 1000, 10000]]\n"
     ]
    }
   ],
   "source": [
    "input_mtrix=[1,2,4,6,8,10]\n",
    "\n",
    "def my_vander_fun(x,N,increasing=False):\n",
    "    lis2=[]\n",
    "    if increasing:\n",
    "        for i in x:\n",
    "            lis1=[]\n",
    "            for n in range(0,N):\n",
    "                lis1.append(i**n)\n",
    "            lis2.append(lis1)\n",
    "        return lis2\n",
    "    for i in x:\n",
    "        lis1=[]\n",
    "        for n in range(N-1,-1,-1):\n",
    "            lis1.append(i**n)\n",
    "        lis2.append(lis1)\n",
    "    return lis2\n",
    "\n",
    "print(\"Vander Matrix if increasing = False :\",my_vander_fun(input_mtrix,5,False))\n",
    "\n",
    "print(\"Vander Matrix if increasing = True :\",my_vander_fun(input_mtrix,5,True))"
   ]
  }
 ],
 "metadata": {
  "kernelspec": {
   "display_name": "Python 3",
   "language": "python",
   "name": "python3"
  },
  "language_info": {
   "codemirror_mode": {
    "name": "ipython",
    "version": 3
   },
   "file_extension": ".py",
   "mimetype": "text/x-python",
   "name": "python",
   "nbconvert_exporter": "python",
   "pygments_lexer": "ipython3",
   "version": "3.6.2"
  }
 },
 "nbformat": 4,
 "nbformat_minor": 2
}
